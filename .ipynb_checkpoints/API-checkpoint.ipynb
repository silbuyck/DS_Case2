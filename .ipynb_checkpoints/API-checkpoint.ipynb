{
 "cells": [
  {
   "cell_type": "code",
   "execution_count": 2,
   "id": "af254c16-789a-44c8-9746-d38cd18adf39",
   "metadata": {},
   "outputs": [
    {
     "name": "stdout",
     "output_type": "stream",
     "text": [
      "[{\"name\": \"Amsterdam\", \"latitude\": 52.35, \"longitude\": 4.9166, \"country\": \"NL\", \"population\": 1031000, \"is_capital\": true}]\n"
     ]
    }
   ],
   "source": [
    "import requests\n",
    "\n",
    "name = 'Amsterdam'\n",
    "api_url = 'https://api.api-ninjas.com/v1/city?name={}'.format(name)\n",
    "response = requests.get(api_url, headers={'X-Api-Key': '0eJ24h1oAq0DwwYAz67D3Q==EaKYACEsoPSFRO2M'})\n",
    "if response.status_code == requests.codes.ok:\n",
    "    print(response.text)\n",
    "else:\n",
    "    print(\"Error:\", response.status_code, response.text)"
   ]
  },
  {
   "cell_type": "markdown",
   "id": "1835080f-8bcb-41b8-a9b4-f034f166c867",
   "metadata": {
    "tags": []
   },
   "source": [
    "akhhkgjag"
   ]
  },
  {
   "cell_type": "code",
   "execution_count": null,
   "id": "cbd8b39f-0e1e-43a7-8bc4-8688bdf4a7f3",
   "metadata": {},
   "outputs": [],
   "source": []
  },
  {
   "cell_type": "code",
   "execution_count": null,
   "id": "be50f571-2334-493d-b774-7b24a46c72a8",
   "metadata": {},
   "outputs": [],
   "source": []
  }
 ],
 "metadata": {
  "kernelspec": {
   "display_name": "Python 3 (ipykernel)",
   "language": "python",
   "name": "python3"
  },
  "language_info": {
   "codemirror_mode": {
    "name": "ipython",
    "version": 3
   },
   "file_extension": ".py",
   "mimetype": "text/x-python",
   "name": "python",
   "nbconvert_exporter": "python",
   "pygments_lexer": "ipython3",
   "version": "3.9.12"
  }
 },
 "nbformat": 4,
 "nbformat_minor": 5
}
